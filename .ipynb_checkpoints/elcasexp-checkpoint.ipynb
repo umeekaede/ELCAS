{
 "cells": [
  {
   "cell_type": "code",
   "execution_count": 1,
   "metadata": {},
   "outputs": [],
   "source": [
    "import ctypes\n",
    "import matplotlib.pyplot as plt\n",
    "import numpy as np\n",
    "import re"
   ]
  },
  {
   "cell_type": "code",
   "execution_count": 2,
   "metadata": {},
   "outputs": [
    {
     "name": "stdout",
     "output_type": "stream",
     "text": [
      "シンチレータの間の最短距離Lは20 cmです\n"
     ]
    }
   ],
   "source": [
    "f = open('lengthfile.dat', 'rt')\n",
    "s=f.read()\n",
    "print(s)\n",
    "length = float(re.sub(\"\\\\D\", \"\", s))\n",
    "ulength=(length)/2\n",
    "dlength=-(length)/2"
   ]
  },
  {
   "cell_type": "code",
   "execution_count": 3,
   "metadata": {},
   "outputs": [],
   "source": [
    "def st_line(x1, x2, x):\n",
    "    y = (float(length)/(x2-x1))*(x-x1)+dlength\n",
    "    return y"
   ]
  },
  {
   "cell_type": "code",
   "execution_count": 4,
   "metadata": {},
   "outputs": [],
   "source": [
    "def solv_quadratic_equation(a, b, c):\n",
    "    D = (b**2 - 4*a*c) ** (1/2)\n",
    "    x_1 = (-b + D) / (2 * a)\n",
    "    x_2 = (-b - D) / (2 * a)\n",
    "    return x_1, x_2"
   ]
  },
  {
   "cell_type": "code",
   "execution_count": null,
   "metadata": {},
   "outputs": [],
   "source": [
    "''' main content code '''\n",
    "def main():\n",
    "#    ans=solv_quadratic_equation(a, b, c)\n",
    "#    print(ans)\n",
    "\n",
    "    ''' read data file part'''\n",
    "    xu_list = []\n",
    "    xd_list = []\n",
    "\n",
    "    f = open('value.dat', 'rt')\n",
    "    for line in f:\n",
    "        data = line[:-1].split(',')\n",
    "        xd_list.append(float(data[0]))\n",
    "        xu_list.append(float(data[1]))\n",
    "\n",
    "    xd_list = np.array(xd_list)\n",
    "    xu_list = np.array(xu_list)\n",
    "    plt.ion\n",
    "\n",
    "    ''' read file '''\n",
    "    i = 0\n",
    "    while i < 100000:\n",
    "        #    for i in range(0, 200):\n",
    "        ''' adjust x,y range '''\n",
    "        plt.xlim(-13, 13)\n",
    "        plt.ylim(-20, 20)\n",
    "\n",
    "        ''' plot Scintillator '''\n",
    "        yu, = plt.plot([-3, 3], [ulength, ulength], c='Black', lw=10)\n",
    "        yd, = plt.plot([-10, 10], [dlength, dlength], c='Black', lw=10)\n",
    "\n",
    "        plt.plot(xd_list[i], dlength, \"*\", markersize=12)\n",
    "        plt.plot(xu_list[i], ulength, \"*\", markersize=12)\n",
    "\n",
    "        ''' plot y=a*x+b '''\n",
    "        print(\"No {0} hit !!!!\".format(i+1))\n",
    "        print(\"down_hitposition = {0}, up_hitposition = {1}\".format(\n",
    "            xd_list[i], xu_list[i]))\n",
    "\n",
    "        if xd_list[i] != xu_list[i]:\n",
    "            plt.plot([-13, 13], [st_line(xd_list[i], xu_list[i], -13),\n",
    "                                 st_line(xd_list[i], xu_list[i], 13)], \"r-\", c='Red')\n",
    "        else:\n",
    "            plt.axvline(xd_list[i], c='Red')\n",
    "#\n",
    "        #''' draw part '''\n",
    "        plt.draw()\n",
    "        plt.pause(0.3)\n",
    "        plt.cla()\n",
    "\n",
    "        key = input()\n",
    "        if key == 'b':\n",
    "            i -= 1\n",
    "        elif key == '':\n",
    "            i += 1\n",
    "            pass\n",
    "        elif key == 'q':\n",
    "            break\n",
    "        print(\"{0} hit finish!!!\\n\".format(i))\n",
    "    plt.close()"
   ]
  }
 ],
 "metadata": {
  "kernelspec": {
   "display_name": "Python 3",
   "language": "python",
   "name": "python3"
  },
  "language_info": {
   "codemirror_mode": {
    "name": "ipython",
    "version": 3
   },
   "file_extension": ".py",
   "mimetype": "text/x-python",
   "name": "python",
   "nbconvert_exporter": "python",
   "pygments_lexer": "ipython3",
   "version": "3.6.8"
  }
 },
 "nbformat": 4,
 "nbformat_minor": 2
}
